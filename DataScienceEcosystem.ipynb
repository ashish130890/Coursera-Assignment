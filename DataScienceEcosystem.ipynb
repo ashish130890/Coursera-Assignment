{
 "cells": [
  {
   "cell_type": "markdown",
   "id": "3c21c122-8413-4962-a2df-f8e9f729c8da",
   "metadata": {},
   "source": [
    "# Data Science tools and ecosystem"
   ]
  },
  {
   "cell_type": "markdown",
   "id": "106f44dc-3933-4bfb-9cb4-d22feb1c6d90",
   "metadata": {},
   "source": [
    "In this notebook, Data Science Tools and Ecosystem are summarized.\n",
    "\n"
   ]
  },
  {
   "cell_type": "markdown",
   "id": "f105af86-8e88-4cbe-81f4-7b76ebe83362",
   "metadata": {},
   "source": [
    "**Objectives**"
   ]
  },
  {
   "cell_type": "markdown",
   "id": "b106bbd1-0898-4aab-aa21-b5197c8fb0c2",
   "metadata": {},
   "source": [
    "Some of the popular languages that Data Scientists use are:\n",
    "* R\n",
    "* Python\n",
    "* SQL\n"
   ]
  },
  {
   "cell_type": "markdown",
   "id": "98d4cea3-dee1-4d64-99e2-17b950fba3d2",
   "metadata": {},
   "source": [
    "Some of the commonly used libraries used by Data Scientists include:\n",
    "\n",
    "1. Numpy\n",
    "2. Pandas\n",
    "3. Skikit-learn"
   ]
  },
  {
   "cell_type": "markdown",
   "id": "375d0e9c-ff2b-4369-914e-86f36eaf8dd7",
   "metadata": {},
   "source": [
    "| Data Science tools |\n",
    "|--------------------|\n",
    "| Jupyter notebook   |\n",
    "| VS code            |        \n",
    "| R Studio           |"
   ]
  },
  {
   "cell_type": "markdown",
   "id": "958ecfe1-09b9-466f-8542-116cf40dc3ff",
   "metadata": {},
   "source": [
    "### Below are a few examples of evaluating arithmetic expressions in Python:\n",
    "\n"
   ]
  },
  {
   "cell_type": "code",
   "execution_count": 1,
   "id": "d0632066-7d96-4851-bbf1-69ca8697da14",
   "metadata": {},
   "outputs": [
    {
     "data": {
      "text/plain": [
       "17"
      ]
     },
     "execution_count": 1,
     "metadata": {},
     "output_type": "execute_result"
    }
   ],
   "source": [
    "# This a simple arithmetic expression to mutiply then add integers\n",
    "\n",
    "(3*4)+5"
   ]
  },
  {
   "cell_type": "code",
   "execution_count": 2,
   "id": "3bc9d0e6-d067-4969-85ab-6a5a81a2cadf",
   "metadata": {},
   "outputs": [
    {
     "data": {
      "text/plain": [
       "3.3333333333333335"
      ]
     },
     "execution_count": 2,
     "metadata": {},
     "output_type": "execute_result"
    }
   ],
   "source": [
    "#  This will convert 200 minutes to hours by diving by 60\n",
    "\n",
    "200/60"
   ]
  },
  {
   "cell_type": "markdown",
   "id": "4b0012d7-d8c0-495b-9631-bf54fdf858f5",
   "metadata": {},
   "source": [
    "## Author"
   ]
  },
  {
   "cell_type": "markdown",
   "id": "e7a81775-135b-4325-abfa-a9c4d1238063",
   "metadata": {},
   "source": [
    "Ashish Mishra"
   ]
  },
  {
   "cell_type": "code",
   "execution_count": null,
   "id": "4392847b-c4e2-4a0a-b1db-e32a1097a6d9",
   "metadata": {},
   "outputs": [],
   "source": []
  }
 ],
 "metadata": {
  "kernelspec": {
   "display_name": "Python 3 (ipykernel)",
   "language": "python",
   "name": "python3"
  },
  "language_info": {
   "codemirror_mode": {
    "name": "ipython",
    "version": 3
   },
   "file_extension": ".py",
   "mimetype": "text/x-python",
   "name": "python",
   "nbconvert_exporter": "python",
   "pygments_lexer": "ipython3",
   "version": "3.13.2"
  }
 },
 "nbformat": 4,
 "nbformat_minor": 5
}
